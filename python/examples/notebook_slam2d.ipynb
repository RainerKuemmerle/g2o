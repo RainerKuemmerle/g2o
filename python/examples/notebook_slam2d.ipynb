{
  "cells" : [
    {
      "attachments" : {},
      "cell_type" : "markdown",
      "metadata" : {},
      "source" : [
        "# 2D SLAM with g2opy\n", "\n", "## Setup\n",
        "First we need to import g2opy to be able to run a 2D SLAM example.\n",
        "We do this by adding the lib folder inside g2o's source to the python "
        "path and\n",
        "afterwards import g2opy"
      ]
    },
    {
      "cell_type" : "code",
      "execution_count" : null,
      "metadata" : {},
      "outputs" : [],
      "source" : [
        "import os\n", "import sys\n", "import numpy as np\n", "import math\n",
        "\n", "# Adjust path if needed\n",
        "lib_directory = os.path.join(os.getcwd(), \"../../build/lib\")\n",
        "print(f\"lib_directory {lib_directory}\")\n", "\n",
        "if not lib_directory in sys.path:\n",
        "    sys.path.append(lib_directory)\n", "\n", "import g2opy"
      ]
    },
    {
      "attachments" : {},
      "cell_type" : "markdown",
      "metadata" : {},
      "source" : [
        "## Download a g2o file to work with the optimizer\n",
        "We download a data set and save it to a temporary file to operate on "
        "this data"
      ]
    },
    {
      "cell_type" : "code",
      "execution_count" : null,
      "metadata" : {},
      "outputs" : [],
      "source" : [
        "import tempfile\n", "import requests\n", "\n",
        "url = "
        "\"https://raw.githubusercontent.com/OpenSLAM-org/openslam_g2o/master/"
        "data/2d/manhattan3500/manhattanOlson3500.g2o\"\n",
        "tmp_fd, tmp_filename = tempfile.mkstemp(suffix=\".g2o\", "
        "prefix=\"slam2d_python\")\n",
        "data = requests.get(url)\n", "with os.fdopen(tmp_fd, \"wb\") as f:\n",
        "    f.write(data.content)"
      ]
    },
    {
      "attachments" : {},
      "cell_type" : "markdown",
      "metadata" : {},
      "source" : [
        "## Creating an optimizer and solver\n",
        "Now we are ready to create an optimizer and a solver"
      ]
    },
    {
      "cell_type" : "code",
      "execution_count" : null,
      "metadata" : {},
      "outputs" : [],
      "source" : [
        "def create_optimizer():\n",
        "    optimizer = g2opy.SparseOptimizer()\n",
        "    solver = g2opy.BlockSolverX(g2opy.LinearSolverEigenX())\n",
        "    solver = g2opy.OptimizationAlgorithmLevenberg(solver)\n",
        "    optimizer.set_algorithm(solver)\n", "    return optimizer\n", "\n",
        "\n", "optimizer = create_optimizer()"
      ]
    },
    {
      "attachments" : {},
      "cell_type" : "markdown",
      "metadata" : {},
      "source" : [
        "## Loading the data\n",
        "Given the optimizer we now can load data into it. For that purpose, "
        "we use the\n",
        "data which we downloaded above."
      ]
    },
    {
      "cell_type" : "code",
      "execution_count" : null,
      "metadata" : {},
      "outputs" : [],
      "source" : [
        "optimizer.clear()\n", "optimizer.load(tmp_filename)\n",
        "print(f\"Number of vertices: {len(optimizer.vertices())}\")\n",
        "print(f\"Number of edges {len(optimizer.edges())}\")"
      ]
    },
    {
      "attachments" : {},
      "cell_type" : "markdown",
      "metadata" : {},
      "source" : [
        "## Visualization of the initial state\n",
        "First the generic code to visualize the graph by a plotly figure."
      ]
    },
    {
      "cell_type" : "code",
      "execution_count" : null,
      "metadata" : {},
      "outputs" : [],
      "source" : [
        "import plotly.graph_objects as go\n",
        "\n",
        "\n",
        "def plot_slam2d(optimizer, title, covariances=None):\n",
        "    def edges_coord(edges, dim):\n",
        "        for e in edges:\n",
        "            yield e.vertices()[0].estimate().to_vector()[dim]\n",
        "            yield e.vertices()[1].estimate().to_vector()[dim]\n",
        "            yield None\n",
        "\n",
        "    fig = go.Figure()\n",
        "\n",
        "    # poses of the vertices\n",
        "    vertices = optimizer.vertices()\n",
        "    fig.add_trace(\n",
        "        go.Scatter(\n",
        "            x=[v.estimate().to_vector()[0] for v in "
        "vertices.values()],\n",
        "            y=[v.estimate().to_vector()[1] for v in "
        "vertices.values()],\n",
        "            mode=\"markers\",\n",
        "        )\n",
        "    )\n",
        "\n",
        "    # edges\n",
        "    edges = optimizer.edges()  # get set once to have same order\n",
        "    fig.add_trace(\n",
        "        go.Scatter(\n",
        "            x=list(edges_coord(edges, 0)),\n",
        "            y=list(edges_coord(edges, 1)),\n",
        "            mode=\"lines\",\n",
        "            line=dict(width=0.5),\n",
        "        )\n",
        "    )\n",
        "\n",
        "    if covariances:\n",
        "\n",
        "        def points_for_cov(cov):\n",
        "            a = cov[0, 0]\n",
        "            b = cov[0, 1]\n",
        "            d = cov[1, 1]\n",
        "\n",
        "            # get eigen-values\n",
        "            D = a * d - b * b  # determinant of the matrix\n",
        "            T = a + d  # Trace of the matrix\n",
        "            h = math.sqrt(0.25 * (T * T) - D)\n",
        "            lambda1 = 0.5 * T + h  # solving characteristic polynom "
        "using p-q-formula\n",
        "            lambda2 = 0.5 * T - h\n",
        "\n",
        "            theta = 0.5 * math.atan2(2.0 * b, a - d)\n",
        "            rotation_matrix = np.array(\n",
        "                [[np.cos(theta), np.sin(theta)], [-np.sin(theta), "
        "np.cos(theta)]]\n",
        "            )\n",
        "            majorAxis = 3.0 * math.sqrt(lambda1)\n",
        "            minorAxis = 3.0 * math.sqrt(lambda2)\n",
        "            for alpha in np.linspace(0, math.tau, 32):\n",
        "                yield np.matmul(\n",
        "                    rotation_matrix,\n",
        "                    [\n",
        "                        majorAxis * math.cos(alpha),\n",
        "                        minorAxis * math.sin(alpha),\n",
        "                    ],\n",
        "                )\n",
        "\n",
        "        cov_points_x = []\n",
        "        cov_points_y = []\n",
        "        for v in optimizer.vertices().values():\n",
        "            if type(v) != g2opy.VertexSE2 or v.fixed():\n",
        "                continue\n",
        "            matrix = covariances.block(v.hessian_index(), "
        "v.hessian_index())\n",
        "            vertex_offset = v.estimate().to_vector()\n",
        "            for p in points_for_cov(matrix):\n",
        "                cov_points_x.append(vertex_offset[0] + p[0])\n",
        "                cov_points_y.append(vertex_offset[1] + p[1])\n",
        "            cov_points_x.append(None)\n",
        "            cov_points_y.append(None)\n",
        "\n",
        "        fig.add_trace(\n",
        "            go.Scatter(\n",
        "                x=cov_points_x,\n",
        "                y=cov_points_y,\n",
        "                mode=\"lines\",\n",
        "                line=dict(width=0.5),\n",
        "            )\n",
        "        )\n",
        "\n",
        "    fig.update_yaxes(\n",
        "        scaleanchor=\"x\",\n",
        "        scaleratio=1,\n",
        "    )\n",
        "    fig.update_layout(go.Layout({\"title\": title, \"showlegend\": "
        "False}))\n",
        "\n",
        "    return fig"
      ]
    },
    {
      "attachments" : {},
      "cell_type" : "markdown",
      "metadata" : {},
      "source" : ["Below, we can visualize the data"]
    },
    {
      "cell_type" : "code",
      "execution_count" : null,
      "metadata" : {},
      "outputs" : [],
      "source" :
          ["plot_slam2d(optimizer, \"Manhattan - Initial state\").show()"]
    },
    {
      "attachments" : {},
      "cell_type" : "markdown",
      "metadata" : {},
      "source" : [
        "## Optimization and visualization\n",
        "Run the optimization and visualize the result\n", "\n",
        "### The graph"
      ]
    },
    {
      "cell_type" : "code",
      "execution_count" : null,
      "metadata" : {},
      "outputs" : [],
      "source" : [
        "optimizer.vertices()[0].set_fixed(True)\n",
        "optimizer.initialize_optimization()\n", "optimizer.optimize(30)\n",
        "\n",
        "plot_slam2d(optimizer, \"Manhattan - Optimized state\").show()\n"
      ]
    },
    {
      "attachments" : {},
      "cell_type" : "markdown",
      "metadata" : {},
      "source" : [
        "### Extract and draw covariance\n",
        "First, we compute the covariance for all pose vertices."
      ]
    },
    {
      "cell_type" : "code",
      "execution_count" : null,
      "metadata" : {},
      "outputs" : [],
      "source" : [
        "cov_vertices = [\n", "    (v.hessian_index(), v.hessian_index())\n",
        "    for v in optimizer.vertices().values()\n",
        "    if type(v) == g2opy.VertexSE2 and not v.fixed()\n", "]\n",
        "covariances, covariances_result = "
        "optimizer.compute_marginals(cov_vertices)"
      ]
    },
    {
      "attachments" : {},
      "cell_type" : "markdown",
      "metadata" : {},
      "source" :
          ["Afterwards, we can plot the estimate along with the covariance."]
    },
    {
      "cell_type" : "code",
      "execution_count" : null,
      "metadata" : {},
      "outputs" : [],
      "source" : ["plot_slam2d(optimizer, \"Manhattan - Optimized state with "
                  "covariances\", covariances).show()\n"]
    },
    {
      "attachments" : {},
      "cell_type" : "markdown",
      "metadata" : {},
      "source" : [ "## Cleaning up\n", "Delete the temporary file" ]
    },
    {
      "cell_type" : "code",
      "execution_count" : null,
      "metadata" : {},
      "outputs" : [],
      "source" : ["os.remove(tmp_filename)"]
    }
  ],
  "metadata" : {
    "interpreter" : {
      "hash" :
          "31f2aee4e71d21fbe5cf8b01ff0e069b9275f58929596ceb00d14d90e3e16cd6"
    },
    "kernelspec" : {
      "display_name" : "Python 3.9.7 64-bit",
      "language" : "python",
      "name" : "python3"
    },
    "language_info" : {
      "codemirror_mode" : {"name" : "ipython", "version" : 3},
      "file_extension" : ".py",
      "mimetype" : "text/x-python",
      "name" : "python",
      "nbconvert_exporter" : "python",
      "pygments_lexer" : "ipython3",
      "version" : "3.10.7"
    },
    "orig_nbformat" : 4
  },
  "nbformat" : 4,
  "nbformat_minor" : 2
}
